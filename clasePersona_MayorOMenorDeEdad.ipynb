{
  "nbformat": 4,
  "nbformat_minor": 0,
  "metadata": {
    "colab": {
      "provenance": [],
      "authorship_tag": "ABX9TyMtqijLehYwWIFhT6OBHbfB",
      "include_colab_link": true
    },
    "kernelspec": {
      "name": "python3",
      "display_name": "Python 3"
    },
    "language_info": {
      "name": "python"
    }
  },
  "cells": [
    {
      "cell_type": "markdown",
      "metadata": {
        "id": "view-in-github",
        "colab_type": "text"
      },
      "source": [
        "<a href=\"https://colab.research.google.com/github/gonarc/gonarc.github.io/blob/main/clasePersona_MayorOMenorDeEdad.ipynb\" target=\"_parent\"><img src=\"https://colab.research.google.com/assets/colab-badge.svg\" alt=\"Open In Colab\"/></a>"
      ]
    },
    {
      "cell_type": "markdown",
      "metadata": {
        "id": "bez6k8wS8CMj"
      },
      "source": [
        "### Ejercicio 2\n",
        "\n",
        "Crear una clase llamada Persona con los atributos: nombre, edad y DNI.  \n",
        "Diseñar los siguientes métodos para la clase:  \n",
        "\n",
        "* Un constructor, donde el DNI pueda estar sin especificar (usar un parámetro con un valor por defecto).\n",
        "* Mostrar todos los datos de una persona.\n",
        "* Determinar si es mayor de edad. O sea, debe responder un `bool`.\n",
        "\n",
        "Instanciar 5 personas con valores aleatorios de edad entre 15 y 22 años, almacenar a las personas en una lista. Luego, recorrer la lista y mostrar el **nombre** de las personas que sean mayores de edad."
      ]
    },
    {
      "cell_type": "code",
      "source": [
        "class Persona():\n",
        "  def __init__(self,nombre,edad):\n",
        "    self.nombre=nombre\n",
        "    self.edad=edad\n",
        "    self.dni=41163564\n",
        "\n",
        "  def mostrar_datos(self):\n",
        "    print(\"Nombre:\",persona1.nombre)\n",
        "    print(\"Edad:\",persona1.edad)\n",
        "\n",
        "  def mayor_menor(self):\n",
        "    if int(self.edad) >= 18:\n",
        "      print(\"Es mayor de edad\")\n",
        "    else:\n",
        "      print(\"Es menor de edad\")\n",
        "\n",
        "\n",
        "\n",
        "persona1=Persona('Gonzalo','14')\n",
        "persona1.mostrar_datos()\n",
        "persona1.mayor_menor()"
      ],
      "metadata": {
        "id": "taiEyi9WjUuS",
        "outputId": "a5ae453d-974b-4829-8c6e-b7ce5bc76ef3",
        "colab": {
          "base_uri": "https://localhost:8080/"
        }
      },
      "execution_count": null,
      "outputs": [
        {
          "output_type": "stream",
          "name": "stdout",
          "text": [
            "Nombre: Gonzalo\n",
            "Edad: 14\n",
            "Es menor de edad\n"
          ]
        }
      ]
    }
  ]
}